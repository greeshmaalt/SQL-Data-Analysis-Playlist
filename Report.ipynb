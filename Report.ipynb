{
 "cells": [
  {
   "cell_type": "markdown",
   "id": "37ce7eb0-0580-4604-aa11-0e3ba21f9831",
   "metadata": {},
   "source": [
    "# Music Playlist Database\n",
    "\n",
    "This project utilizes Udacity's Chinook playlist database. It offers solutions to three straightforward questions, showcasing my SQL skills for data mining. To understand how the tables are interconnected, refer to the database's ERD."
   ]
  },
  {
   "cell_type": "markdown",
   "id": "a2ecd86c-f92d-443c-b7ee-a7a57adfb72d",
   "metadata": {},
   "source": [
    "# What are the three most preferred genres?\n"
   ]
  },
  {
   "cell_type": "code",
   "execution_count": 1,
   "id": "6f11c330-77cf-411e-b987-2fa5ca5121e0",
   "metadata": {},
   "outputs": [
    {
     "name": "stdout",
     "output_type": "stream",
     "text": [
      "('Rock', 47.519999999999996, 'Top')\n",
      "('Classical', 32.67, 'Top')\n",
      "('Latin', 23.759999999999998, 'Top')\n",
      "('Alternative & Punk', 12.87, 'Medium')\n",
      "('Metal', 9.9, 'Low')\n",
      "('Jazz', 6.93, 'Low')\n",
      "('TV Shows', 5.97, 'Low')\n",
      "('Drama', 3.98, 'Low')\n",
      "('Blues', 3.96, 'Low')\n",
      "('World', 2.9699999999999998, 'Low')\n",
      "('R&B/Soul', 2.9699999999999998, 'Low')\n",
      "('Alternative', 2.9699999999999998, 'Low')\n",
      "('Sci Fi & Fantasy', 1.99, 'Low')\n",
      "('Soundtrack', 1.98, 'Low')\n",
      "('Reggae', 1.98, 'Low')\n",
      "('Hip Hop/Rap', 1.98, 'Low')\n",
      "('Pop', 0.99, 'Low')\n",
      "('Electronica/Dance', 0.99, 'Low')\n",
      "('Easy Listening', 0.99, 'Low')\n",
      "('Bossa Nova', 0.99, 'Low')\n",
      "('Rock And Roll', 0.9899999999999999, 'Low')\n"
     ]
    }
   ],
   "source": [
    "import sqlite3\n",
    "\n",
    "connection = sqlite3.connect(\"chinook.db\")\n",
    "cursor = connection.cursor()\n",
    "\n",
    "query = \"\"\"\n",
    "SELECT\n",
    "  music_type,\n",
    "  SUM(avg_total_sales) AS sum_avg_total_sales_by_genre,\n",
    "  CASE\n",
    "    WHEN SUM(avg_total_sales) >= 20 THEN 'Top'\n",
    "    WHEN SUM(avg_total_sales) > 10 AND SUM(avg_total_sales) <= 20 THEN 'Medium'\n",
    "    ELSE 'Low'\n",
    "  END AS level_sales\n",
    "FROM (\n",
    "  SELECT DISTINCT\n",
    "    Artist.Name AS artist_name,\n",
    "    Genre.Name AS music_type,\n",
    "    COUNT(Album.AlbumId) AS total_album,\n",
    "    AVG(InvoiceLine.UnitPrice * InvoiceLine.Quantity) AS avg_total_sales\n",
    "  FROM Artist\n",
    "  JOIN Album ON Artist.ArtistId = Album.ArtistId\n",
    "  JOIN Track ON Album.AlbumId = Track.AlbumId\n",
    "  JOIN Genre ON Track.GenreId = Genre.GenreId\n",
    "  JOIN InvoiceLine ON Track.TrackId = InvoiceLine.TrackId\n",
    "  JOIN Invoice ON InvoiceLine.InvoiceId = Invoice.InvoiceId\n",
    "  GROUP BY Artist.Name\n",
    ") sub\n",
    "GROUP BY music_type\n",
    "ORDER BY sum_avg_total_sales_by_genre DESC;\n",
    "\"\"\"\n",
    "\n",
    "cursor.execute(query)\n",
    "results = cursor.fetchall()\n",
    "\n",
    "for row in results:\n",
    "    print(row)\n",
    "\n",
    "connection.close()\n",
    "\n"
   ]
  },
  {
   "cell_type": "markdown",
   "id": "52a8cf70-7111-4a38-b495-8191eb0a5fc7",
   "metadata": {},
   "source": [
    "The SQL query retrieves the three most preferred music genres based on total sales from the *Chinook* database. It calculates the sum of average total sales by genre and categorizes each genre into \"Top,\" \"Medium,\" or \"Low\" sales levels based on the sales thresholds defined in the query. According to the query's output, the top three preferred genres are:\n",
    "\n",
    "1. **Rock** with total average sales of 47.52 (categorized as \"Top\").\n",
    "2. **Classical** with total average sales of 32.67 (categorized as \"Top\").\n",
    "3. **Latin** with total average sales of 23.76 (categorized as \"Top\").\n",
    "\n",
    "These genres are identified as the most preferred, given their higher sales figures compared to other genres.\n",
    "This insight is valuable for sales and marketing strategies, as the company can focus more resources and budget on the most popular genres to drive higher sales."
   ]
  },
  {
   "cell_type": "markdown",
   "id": "a3f6855b-e970-4f5b-8f48-7c328c43c9b7",
   "metadata": {},
   "source": [
    "# Which country was the best buyer in 2009?"
   ]
  },
  {
   "cell_type": "code",
   "execution_count": 2,
   "id": "2737ab2a-75c5-47a6-82ed-8feb6eec00a7",
   "metadata": {},
   "outputs": [
    {
     "name": "stdout",
     "output_type": "stream",
     "text": [
      "('USA', 103.95)\n",
      "('Canada', 57.42)\n",
      "('Germany', 53.46)\n",
      "('Brazil', 37.62)\n",
      "('France', 34.65)\n",
      "('United Kingdom', 25.74)\n",
      "('Poland', 15.84)\n",
      "('Chile', 15.84)\n",
      "('Portugal', 11.879999999999999)\n",
      "('Australia', 11.879999999999999)\n",
      "('Norway', 10.89)\n",
      "('Czech Republic', 10.89)\n",
      "('India', 9.9)\n",
      "('Netherlands', 8.91)\n",
      "('Finland', 8.91)\n",
      "('Ireland', 6.93)\n",
      "('Belgium', 6.93)\n",
      "('Sweden', 5.9399999999999995)\n",
      "('Denmark', 5.9399999999999995)\n",
      "('Italy', 1.98)\n",
      "('Austria', 1.98)\n",
      "('Spain', 0.99)\n"
     ]
    }
   ],
   "source": [
    "import sqlite3\n",
    "connection = sqlite3.connect(\"chinook.db\")\n",
    "cursor = connection.cursor()\n",
    "query = \"\"\"\n",
    "SELECT\n",
    "  Customer.Country,\n",
    "  SUM(InvoiceLine.UnitPrice * InvoiceLine.Quantity) AS Total_sales\n",
    "FROM Artist\n",
    "JOIN Album ON Artist.ArtistId = Album.ArtistId\n",
    "JOIN Track ON Album.AlbumId = Track.AlbumId\n",
    "JOIN Genre ON Track.GenreId = Genre.GenreId\n",
    "JOIN InvoiceLine ON Track.TrackId = InvoiceLine.TrackId\n",
    "JOIN Invoice ON InvoiceLine.InvoiceId = Invoice.InvoiceId\n",
    "JOIN Customer ON Invoice.CustomerId = Customer.CustomerId\n",
    "WHERE Invoice.InvoiceDate BETWEEN '2009-01-01' AND '2009-12-26'\n",
    "GROUP BY Customer.Country\n",
    "ORDER BY Total_sales DESC;\n",
    "\"\"\"\n",
    "cursor.execute(query)\n",
    "results = cursor.fetchall()\n",
    "for row in results:\n",
    "    print(row)\n",
    "connection.close()\n"
   ]
  },
  {
   "cell_type": "markdown",
   "id": "17e6859c-138b-4b9d-a784-51e37c218a59",
   "metadata": {},
   "source": [
    "Based on the query results, we observed that the United States was the leading buyer in 2009, with a total turnover of 104 USD, far exceeding other countries. This figure is 54.8 percent higher than that of Canada, which had 57 USD in sales, making the USA a dominant market for that year. The data also highlights that Canada and Germany are the next top markets.\n",
    "\n",
    "Therefore, for organizing a concert focused on music from the 2000s, targeting the USA, Canada, and Germany would be strategic for maximizing marketing impact."
   ]
  },
  {
   "cell_type": "markdown",
   "id": "170430c4-0751-4574-a0c3-b76df5727d61",
   "metadata": {},
   "source": [
    "# Which was the most popular album ever sold on the playlist?"
   ]
  },
  {
   "cell_type": "code",
   "execution_count": 3,
   "id": "f9d0966c-08fb-444e-915b-b99a251bf99e",
   "metadata": {},
   "outputs": [
    {
     "name": "stdout",
     "output_type": "stream",
     "text": [
      "('Rock', 'The Who', 'My Generation - The Very Best Of The Who', 5285)\n",
      "('Latin', 'Os Paralamas Do Sucesso', 'Acústico MTV', 4409)\n",
      "('Alternative & Punk', 'Titãs', 'Acústico', 4318)\n",
      "('Rock', 'Soundgarden', 'A-Sides', 4219)\n",
      "('Rock', 'U2', 'Rattle And Hum', 4199)\n",
      "('Jazz', 'Gene Krupa', \"Up An' Atom\", 4135)\n",
      "('Rock', 'O Terço', 'Compositores', 3861)\n",
      "('Sci Fi & Fantasy', 'Battlestar Galactica (Classic)', 'Battlestar Galactica (Classic), Season 1', 3791)\n",
      "('Alternative & Punk', 'Smashing Pumpkins', 'Rotten Apples: Greatest Hits', 3734)\n",
      "('Latin', 'Antônio Carlos Jobim', 'Chill: Brazil (Disc 2)', 3672)\n",
      "('Rock', 'U2', 'B-Sides 1980-1990', 3631)\n",
      "('Rock', 'Kiss', 'Greatest Kiss', 3571)\n",
      "('Latin', 'Gilberto Gil', 'Quanta Gente Veio Ver (Live)', 3497)\n",
      "('Bossa Nova', 'Toquinho & Vinícius', 'Vinícius De Moraes - Sem Limite', 3478)\n",
      "('Latin', 'Chico Buarque', 'Minha Historia', 3362)\n"
     ]
    }
   ],
   "source": [
    "import sqlite3\n",
    "\n",
    "connection = sqlite3.connect(\"chinook.db\")\n",
    "cursor = connection.cursor()\n",
    "query = \"\"\"\n",
    "SELECT \n",
    "  Genre.Name AS Music_Genre, \n",
    "  Artist.Name AS Artist_Name, \n",
    "  Album.Title AS Album_Title, \n",
    "  SUM(InvoiceLine.InvoiceId) AS Total_Buy\n",
    "FROM \n",
    "  Artist\n",
    "JOIN \n",
    "  Album ON Artist.ArtistId = Album.ArtistId\n",
    "JOIN \n",
    "  Track ON Album.AlbumId = Track.AlbumId\n",
    "JOIN \n",
    "  Genre ON Track.GenreId = Genre.GenreId\n",
    "JOIN \n",
    "  InvoiceLine ON Track.TrackId = InvoiceLine.TrackId\n",
    "JOIN \n",
    "  Invoice ON InvoiceLine.InvoiceId = Invoice.InvoiceId\n",
    "JOIN \n",
    "  Customer ON Invoice.CustomerId = Customer.CustomerId\n",
    "GROUP BY \n",
    "  Music_Genre, Artist_Name, Album_Title\n",
    "ORDER BY \n",
    "  Total_Buy DESC\n",
    "LIMIT 15;\n",
    "\"\"\"\n",
    "cursor.execute(query)\n",
    "results = cursor.fetchall()\n",
    "\n",
    "for row in results:\n",
    "    print(row)\n",
    "connection.close()\n"
   ]
  },
  {
   "cell_type": "markdown",
   "id": "6b0c1457-0e0b-44f2-9630-aab05d5c23bb",
   "metadata": {},
   "source": [
    "We looked up \"best album ever sold since the beginning\" in the Chinook database. My Generation - The Very Best Of The Who, which was released in 1996 by the group The Who, turns out to be the album with the greatest sales. With rock being the most popular genre in the database, the music is of the rock type and has collaborations or other insights.\n",
    "\n",
    "My Generation - The Very Best Of The Who brought in $5,285 in revenue, which is 83% higher than their second-best Latin album, Acústico MTV (4,409 USD).\n",
    "\n",
    "From a marketing perspective, this might help to promote the group's other albums.\n"
   ]
  },
  {
   "cell_type": "markdown",
   "id": "dc97cd8b-0212-4967-964a-7a0b2904ef51",
   "metadata": {},
   "source": [
    "# Who was the employee with the most buys and their favorite genre?"
   ]
  },
  {
   "cell_type": "code",
   "execution_count": 4,
   "id": "c6ddb63c-606f-4f58-9778-5eb19b27a2a4",
   "metadata": {},
   "outputs": [
    {
     "name": "stdout",
     "output_type": "stream",
     "text": [
      "('Jane', 'Peacock', 'Rock', 300.96)\n",
      "('Margaret', 'Park', 'Rock', 297.0)\n",
      "('Steve', 'Johnson', 'Rock', 228.69)\n",
      "('Jane', 'Peacock', 'Latin', 137.60999999999999)\n",
      "('Margaret', 'Park', 'Latin', 126.72)\n",
      "('Steve', 'Johnson', 'Latin', 117.81)\n",
      "('Margaret', 'Park', 'Metal', 96.03)\n",
      "('Steve', 'Johnson', 'Alternative & Punk', 88.11)\n",
      "('Jane', 'Peacock', 'Metal', 85.14)\n",
      "('Margaret', 'Park', 'Alternative & Punk', 83.16)\n",
      "('Steve', 'Johnson', 'Metal', 80.19)\n",
      "('Jane', 'Peacock', 'Alternative & Punk', 70.29)\n",
      "('Jane', 'Peacock', 'TV Shows', 37.81)\n",
      "('Steve', 'Johnson', 'TV Shows', 35.82)\n",
      "('Jane', 'Peacock', 'Jazz', 33.66)\n",
      "('Margaret', 'Park', 'Jazz', 29.7)\n",
      "('Steve', 'Johnson', 'Blues', 24.75)\n",
      "('Margaret', 'Park', 'Drama', 21.89)\n",
      "('Jane', 'Peacock', 'Sci Fi & Fantasy', 19.9)\n",
      "('Margaret', 'Park', 'TV Shows', 19.9)\n",
      "('Steve', 'Johnson', 'Drama', 19.9)\n",
      "('Jane', 'Peacock', 'Blues', 18.81)\n",
      "('Jane', 'Peacock', 'Classical', 18.81)\n",
      "('Jane', 'Peacock', 'R&B/Soul', 17.82)\n",
      "('Margaret', 'Park', 'Blues', 16.83)\n",
      "('Jane', 'Peacock', 'Drama', 15.92)\n",
      "('Steve', 'Johnson', 'Sci Fi & Fantasy', 15.92)\n",
      "('Margaret', 'Park', 'Pop', 15.84)\n",
      "('Steve', 'Johnson', 'Jazz', 15.84)\n",
      "('Margaret', 'Park', 'Classical', 14.85)\n",
      "('Steve', 'Johnson', 'R&B/Soul', 13.86)\n",
      "('Jane', 'Peacock', 'Reggae', 12.87)\n",
      "('Steve', 'Johnson', 'Soundtrack', 12.87)\n",
      "('Jane', 'Peacock', 'Comedy', 11.94)\n",
      "('Jane', 'Peacock', 'Alternative', 9.9)\n",
      "('Steve', 'Johnson', 'Pop', 9.9)\n",
      "('Jane', 'Peacock', 'Bossa Nova', 8.91)\n",
      "('Margaret', 'Park', 'Heavy Metal', 8.91)\n",
      "('Margaret', 'Park', 'R&B/Soul', 8.91)\n",
      "('Margaret', 'Park', 'Reggae', 8.91)\n",
      "('Steve', 'Johnson', 'Science Fiction', 7.96)\n",
      "('Jane', 'Peacock', 'Hip Hop/Rap', 7.92)\n",
      "('Steve', 'Johnson', 'Hip Hop/Rap', 7.92)\n",
      "('Steve', 'Johnson', 'Reggae', 7.92)\n",
      "('Steve', 'Johnson', 'Classical', 6.93)\n",
      "('Steve', 'Johnson', 'Comedy', 5.97)\n",
      "('Jane', 'Peacock', 'Electronica/Dance', 5.9399999999999995)\n",
      "('Steve', 'Johnson', 'Easy Listening', 5.9399999999999995)\n",
      "('Steve', 'Johnson', 'World', 4.95)\n",
      "('Jane', 'Peacock', 'Science Fiction', 3.98)\n",
      "('Margaret', 'Park', 'Sci Fi & Fantasy', 3.98)\n",
      "('Jane', 'Peacock', 'Soundtrack', 3.96)\n",
      "('Jane', 'Peacock', 'World', 3.96)\n",
      "('Margaret', 'Park', 'Alternative', 3.96)\n",
      "('Margaret', 'Park', 'World', 3.96)\n",
      "('Jane', 'Peacock', 'Rock And Roll', 2.9699999999999998)\n",
      "('Margaret', 'Park', 'Bossa Nova', 2.9699999999999998)\n",
      "('Margaret', 'Park', 'Electronica/Dance', 2.9699999999999998)\n",
      "('Margaret', 'Park', 'Rock And Roll', 2.9699999999999998)\n",
      "('Margaret', 'Park', 'Soundtrack', 2.9699999999999998)\n",
      "('Steve', 'Johnson', 'Bossa Nova', 2.9699999999999998)\n",
      "('Steve', 'Johnson', 'Electronica/Dance', 2.9699999999999998)\n",
      "('Steve', 'Johnson', 'Heavy Metal', 2.9699999999999998)\n",
      "('Jane', 'Peacock', 'Easy Listening', 1.98)\n",
      "('Jane', 'Peacock', 'Pop', 1.98)\n",
      "('Margaret', 'Park', 'Easy Listening', 1.98)\n",
      "('Margaret', 'Park', 'Hip Hop/Rap', 0.99)\n"
     ]
    }
   ],
   "source": [
    "import sqlite3\n",
    "connection = sqlite3.connect(\"chinook.db\")\n",
    "cursor = connection.cursor()\n",
    "query = \"\"\"\n",
    "SELECT DISTINCT\n",
    "  Employee.FirstName,\n",
    "  Employee.LastName,\n",
    "  Genre.Name AS Music_Type,\n",
    "  SUM(InvoiceLine.UnitPrice * InvoiceLine.Quantity) AS Total_Buy\n",
    "FROM \n",
    "  Artist\n",
    "JOIN \n",
    "  Album ON Artist.ArtistId = Album.ArtistId\n",
    "JOIN \n",
    "  Track ON Album.AlbumId = Track.AlbumId\n",
    "JOIN \n",
    "  Genre ON Track.GenreId = Genre.GenreId\n",
    "JOIN \n",
    "  InvoiceLine ON Track.TrackId = InvoiceLine.TrackId\n",
    "JOIN \n",
    "  Invoice ON InvoiceLine.InvoiceId = Invoice.InvoiceId\n",
    "JOIN \n",
    "  Customer ON Invoice.CustomerId = Customer.CustomerId\n",
    "JOIN \n",
    "  Employee ON Customer.SupportRepId = Employee.EmployeeId\n",
    "GROUP BY \n",
    "  Employee.FirstName,\n",
    "  Employee.LastName,\n",
    "  Genre.Name\n",
    "ORDER BY \n",
    "  Total_Buy DESC;\n",
    "\"\"\"\n",
    "\n",
    "cursor.execute(query)\n",
    "results = cursor.fetchall()\n",
    "\n",
    "for row in results:\n",
    "    print(row)\n",
    "connection.close()\n"
   ]
  },
  {
   "cell_type": "markdown",
   "id": "dfae3cd1-f5eb-45bd-a19e-cb7f13ea19cb",
   "metadata": {},
   "source": [
    " We inquired whether any employees were also customers, and it turns out that among the 8 employees in the company, 3 from the sales team (indicated by names on the bar charts) purchased different music genres.\n",
    "The top-selling genre was rock music, with Jane Peacock leading the way, having spent $301 in this category.\n",
    "\n",
    "If the company were to initiate an internal communication campaign, these employees could be rewarded with something like a free pass to purchase a rock album of their choice."
   ]
  },
  {
   "cell_type": "code",
   "execution_count": null,
   "id": "4615ee4c-c843-4e53-9205-6f913ef43aef",
   "metadata": {},
   "outputs": [],
   "source": []
  }
 ],
 "metadata": {
  "kernelspec": {
   "display_name": "Python 3 (ipykernel)",
   "language": "python",
   "name": "python3"
  },
  "language_info": {
   "codemirror_mode": {
    "name": "ipython",
    "version": 3
   },
   "file_extension": ".py",
   "mimetype": "text/x-python",
   "name": "python",
   "nbconvert_exporter": "python",
   "pygments_lexer": "ipython3",
   "version": "3.12.4"
  }
 },
 "nbformat": 4,
 "nbformat_minor": 5
}
